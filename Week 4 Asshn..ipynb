{
 "cells": [
  {
   "cell_type": "markdown",
   "id": "007bdec5-3439-4f20-b4b9-6502c61486d5",
   "metadata": {},
   "source": [
    "## 1. A python program to check whether a string is a palindrome or not using a stack"
   ]
  },
  {
   "cell_type": "code",
   "execution_count": 11,
   "id": "fcec62f9-9fa0-444a-b9c0-e8cbf05c9179",
   "metadata": {},
   "outputs": [
    {
     "name": "stdin",
     "output_type": "stream",
     "text": [
      "Enter a word:  lameck\n"
     ]
    },
    {
     "name": "stdout",
     "output_type": "stream",
     "text": [
      "It's not a palindrome\n",
      "lameck\n",
      "k\n"
     ]
    }
   ],
   "source": [
    "class stack:\n",
    " def __init__(self):\n",
    "   self.items=[]\n",
    "    \n",
    " def isEmpty(self):\n",
    "    return self.items==[]\n",
    "\n",
    " def push(self,data):\n",
    "    self.items.append(data)\n",
    "\n",
    " def size(self):\n",
    "    return len(self.items)\n",
    "\n",
    " def show(self):\n",
    "     print (self.items)\n",
    "\n",
    " def peek(self):\n",
    "    return self.items[len(self.items) -1]\n",
    "\n",
    " def pop(self):\n",
    "    assert not self.isEmpty()\n",
    "    return self.items.pop()\n",
    "\n",
    "\n",
    "a= input(\"Enter a word: \")\n",
    "s= stack();\n",
    "\n",
    "for i in a:\n",
    "     s.push(i);\n",
    "     list1 = s.pop();\n",
    "\n",
    "if (list1==a):\n",
    "     print(\"The word is a palindrome\");\n",
    "else:\n",
    "    print(\"It's not a palindrome\");\n",
    "    print(a);\n",
    "    print(list1);"
   ]
  },
  {
   "cell_type": "markdown",
   "id": "7f6f1845-3a30-4c4c-b324-19c6b08ea9ac",
   "metadata": {},
   "source": [
    "## 2. Concept of list comprehension in python with three examples"
   ]
  },
  {
   "cell_type": "markdown",
   "id": "a957370c-1e50-4b37-a658-ba35e9c0713e",
   "metadata": {},
   "source": [
    "List comprehension offers a shorter syntax when you want to create a new list based on the values of an existing list."
   ]
  },
  {
   "cell_type": "code",
   "execution_count": null,
   "id": "ac56645b-de26-456d-8797-7391aa559d19",
   "metadata": {},
   "outputs": [],
   "source": [
    "fruits = [\"apple',\"banana\",\"cherry\",\"kiwi\",\"mango\"]\n",
    "newlist = []\n",
    "\n",
    "for x in fruits:\n",
    "  if \"a\" in x:\n",
    "    newlist.append(x)\n",
    "\n",
    "print(newlist)"
   ]
  },
  {
   "cell_type": "markdown",
   "id": "7c06b0aa-fc3c-4bc3-ae09-25d440b171a4",
   "metadata": {},
   "source": [
    "### condition"
   ]
  },
  {
   "cell_type": "markdown",
   "id": "d10ac9f4-8899-446d-b3a5-d73224d12b63",
   "metadata": {},
   "source": [
    "The condition is like a filter that only accepts the items that valuate to true"
   ]
  },
  {
   "cell_type": "code",
   "execution_count": null,
   "id": "019a487f-2178-4d34-8edd-b1965b968136",
   "metadata": {},
   "outputs": [],
   "source": [
    "newlist = [x for x in fruits if x !=\"apple\"]"
   ]
  },
  {
   "cell_type": "markdown",
   "id": "fa189874-2995-4de7-922a-fa62f6521465",
   "metadata": {},
   "source": [
    "### Iterable"
   ]
  },
  {
   "cell_type": "code",
   "execution_count": null,
   "id": "4425bdf5-a5a5-48ec-a02f-419970fd238b",
   "metadata": {},
   "outputs": [],
   "source": [
    "newlist = [x for x in range(10)]"
   ]
  },
  {
   "cell_type": "markdown",
   "id": "d2662bb6-cf11-48dc-af16-222795d1f342",
   "metadata": {},
   "source": [
    "## 3. Compound data type with three examples"
   ]
  },
  {
   "cell_type": "markdown",
   "id": "61d0ab78-48a3-4d2b-82d2-7ec8e29c2cdb",
   "metadata": {},
   "source": [
    "Compound data type are those that hold multiple values of potentially different types, such as list, tupples and dictionaries."
   ]
  },
  {
   "cell_type": "code",
   "execution_count": null,
   "id": "c0c55e77-5120-4275-a7b4-e512fda5fa04",
   "metadata": {},
   "outputs": [],
   "source": [
    "my_list = [1,2,\"hello\",3.5]"
   ]
  },
  {
   "cell_type": "code",
   "execution_count": null,
   "id": "affd9e0d-b8d5-4445-ba90-3d2f31f25b48",
   "metadata": {},
   "outputs": [],
   "source": [
    "my_tupple =(1, \"hello\", 3.5)"
   ]
  },
  {
   "cell_type": "code",
   "execution_count": null,
   "id": "154db686-cab4-4476-a159-3658f1881a3e",
   "metadata": {},
   "outputs": [],
   "source": [
    "my_dict ={\"name\":\"Lameck\",\"age\": 22}"
   ]
  },
  {
   "cell_type": "markdown",
   "id": "60f77258-f16c-4e6a-b505-5f93a2d7aef5",
   "metadata": {},
   "source": [
    "## 4. A function that takes a string and returns  a list of bigrams"
   ]
  },
  {
   "cell_type": "code",
   "execution_count": null,
   "id": "1f3d474f-20c6-412a-b363-ba1104a4f499",
   "metadata": {},
   "outputs": [],
   "source": [
    "def get_bigrams(s):\n",
    "    return [s[i:i+2] for i in range(len(s)-1)]\n",
    "\n",
    "#Test\n",
    "text =\"hello\"\n",
    "print(get_bigrams(text))"
   ]
  },
  {
   "cell_type": "markdown",
   "id": "df700a77-5a40-47b5-9367-c3b116da6a4c",
   "metadata": {},
   "source": [
    "## 5. Given a dictionary with keys as letters and values as list of letters, write a function closest_key to find the key with the input value closest to the beginning of the list."
   ]
  },
  {
   "cell_type": "code",
   "execution_count": null,
   "id": "34d790a6-465f-4b2a-aecd-1a770512ea9d",
   "metadata": {},
   "outputs": [],
   "source": [
    "# Python3 code to demonstrate working of\n",
    "# Closest key in dictionary\n",
    "# Using list comprehension + keys() + lambda\n",
    "\n",
    "# initializing dictionary\n",
    "test_dict = {13 : 'Hi', 15 : 'Hello', 16 : 'Gfg'}\n",
    "\n",
    "# initializing nearest key\n",
    "search_key = 15.6\n",
    "\n",
    "# printing original dictionary\n",
    "print(\"The original dictionary is : \" + str(test_dict))\n",
    "\n",
    "# Using list comprehension + keys() + lambda\n",
    "# Closest key in dictionary\n",
    "res = test_dict.get(search_key) or test_dict[\n",
    "\tmin(test_dict.keys(), key = lambda key: abs(key-search_key))]\n",
    "\n",
    "# printing result \n",
    "print(\"The value to the closest key : \" + str(res))\n"
   ]
  }
 ],
 "metadata": {
  "kernelspec": {
   "display_name": "Python 3 (ipykernel)",
   "language": "python",
   "name": "python3"
  },
  "language_info": {
   "codemirror_mode": {
    "name": "ipython",
    "version": 3
   },
   "file_extension": ".py",
   "mimetype": "text/x-python",
   "name": "python",
   "nbconvert_exporter": "python",
   "pygments_lexer": "ipython3",
   "version": "3.12.4"
  }
 },
 "nbformat": 4,
 "nbformat_minor": 5
}
